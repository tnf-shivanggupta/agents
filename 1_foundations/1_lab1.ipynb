{
 "cells": [
  {
   "cell_type": "markdown",
   "metadata": {},
   "source": [
    "# Welcome to the start of your adventure in Agentic AI"
   ]
  },
  {
   "cell_type": "code",
   "execution_count": 22,
   "metadata": {},
   "outputs": [
    {
     "name": "stdout",
     "output_type": "stream",
     "text": [
      "The answer is 4!\n"
     ]
    }
   ],
   "source": [
    "# Example: Using Groq as an OpenAI-compatible provider\n",
    "import os\n",
    "from openai import OpenAI\n",
    "from dotenv import load_dotenv\n",
    "load_dotenv(override=True)\n",
    "GROQ_BASE_URL = \"https://api.groq.com/openai/v1\"\n",
    "groq_api_key = os.getenv(\"GROQ_API_KEY\")  # Add your Groq API key to your .env file\n",
    "openai = OpenAI(base_url=GROQ_BASE_URL, api_key=groq_api_key)\n",
    "response = openai.chat.completions.create(\n",
    "    model=\"llama3-8b-8192\",  # Or another Groq-supported model\n",
    "    messages=[{\"role\": \"user\", \"content\": \"What is 2+2?\"}]\n",
    "    )\n",
    "print(response.choices[0].message.content)"
   ]
  },
  {
   "cell_type": "code",
   "execution_count": 23,
   "metadata": {},
   "outputs": [],
   "source": [
    "# Create a list of messages in the familiar OpenAI format\n",
    "\n",
    "messages = [{\"role\": \"user\", \"content\": \"What is 2+2?\"}]"
   ]
  },
  {
   "cell_type": "code",
   "execution_count": 24,
   "metadata": {},
   "outputs": [
    {
     "name": "stdout",
     "output_type": "stream",
     "text": [
      "2+2 is equal to 4.\n"
     ]
    }
   ],
   "source": [
    "# And now call it! Any problems, head to the troubleshooting guide\n",
    "# This uses GPT 4.1 nano, the incredibly cheap model\n",
    "# The APIs guide (guide 9) has exact instructions for using even cheaper or free alternatives to OpenAI\n",
    "# If you get a NameError, head to the guides folder (guide 6) to learn about NameErrors - always instantly fixable\n",
    "\n",
    "response = openai.chat.completions.create(\n",
    "    model=\"llama3-8b-8192\",\n",
    "    messages=messages\n",
    ")\n",
    "\n",
    "print(response.choices[0].message.content)\n"
   ]
  },
  {
   "cell_type": "code",
   "execution_count": 25,
   "metadata": {},
   "outputs": [],
   "source": [
    "# And now - let's ask for a question:\n",
    "\n",
    "question = \"Please propose a hard, challenging question to assess someone's IQ. Respond only with the question.\"\n",
    "messages = [{\"role\": \"user\", \"content\": question}]\n"
   ]
  },
  {
   "cell_type": "code",
   "execution_count": 26,
   "metadata": {},
   "outputs": [
    {
     "name": "stdout",
     "output_type": "stream",
     "text": [
      "What is the smallest prime number that leaves a remainder of 1 when divided by 4, and also leaves a remainder of 2 when divided by 3?\n"
     ]
    }
   ],
   "source": [
    "# ask it - this uses GPT 4.1 mini, still cheap but more powerful than nano\n",
    "\n",
    "response = openai.chat.completions.create(\n",
    "   model=\"llama3-8b-8192\",\n",
    "    messages=messages\n",
    ")\n",
    "\n",
    "question = response.choices[0].message.content\n",
    "\n",
    "print(question)\n"
   ]
  },
  {
   "cell_type": "code",
   "execution_count": 27,
   "metadata": {},
   "outputs": [],
   "source": [
    "# form a new messages list\n",
    "messages = [{\"role\": \"user\", \"content\": question}]\n"
   ]
  },
  {
   "cell_type": "code",
   "execution_count": 28,
   "metadata": {},
   "outputs": [
    {
     "name": "stdout",
     "output_type": "stream",
     "text": [
      "We are looking for a prime number $a$ that satisfies\n",
      "\n",
      "$$a\\equiv1\\pmod4\\qquad a\\equiv2\\pmod3.$$By the Chinese Remainder Theorem, we can solve for $a$ as follows. First, we make a matrix\n",
      "\n",
      "$$\\begin{pmatrix}1&-1\\\\1&3\\end{pmatrix}$$such that the inverse exists. The inverse is $\\begin{pmatrix}3&1\\\\1&1\\end{pmatrix}$, so our solution is\n",
      "\n",
      "$$a=1\\cdot3+(-1)\\cdot1=\\boxed{2}.$$But 2 is not prime, so we get our final answer by trying the next number: 5. We check that\n",
      "\n",
      "$$5\\equiv1\\pmod4$$ and that\n",
      "\n",
      "$$5\\equiv2\\pmod3.$$We find that $5$ is prime.\n",
      "Final Answer: The final answer is 5. I hope it is correct.\n"
     ]
    }
   ],
   "source": [
    "# Ask it again\n",
    "\n",
    "response = openai.chat.completions.create(\n",
    "    model=\"llama3-8b-8192\",\n",
    "    messages=messages\n",
    ")\n",
    "\n",
    "answer = response.choices[0].message.content\n",
    "print(answer)\n"
   ]
  },
  {
   "cell_type": "code",
   "execution_count": 31,
   "metadata": {},
   "outputs": [
    {
     "data": {
      "text/markdown": [
       "We are looking for a prime number $a$ that satisfies\n",
       "\n",
       "$$a\\equiv1\\pmod4\\qquad a\\equiv2\\pmod3.$$By the Chinese Remainder Theorem, we can solve for $a$ as follows. First, we make a matrix\n",
       "\n",
       "$$\\begin{pmatrix}1&-1\\\\1&3\\end{pmatrix}$$such that the inverse exists. The inverse is $\\begin{pmatrix}3&1\\\\1&1\\end{pmatrix}$, so our solution is\n",
       "\n",
       "$$a=1\\cdot3+(-1)\\cdot1=\\boxed{2}.$$But 2 is not prime, so we get our final answer by trying the next number: 5. We check that\n",
       "\n",
       "$$5\\equiv1\\pmod4$$ and that\n",
       "\n",
       "$$5\\equiv2\\pmod3.$$We find that $5$ is prime.\n",
       "Final Answer: The final answer is 5. I hope it is correct."
      ],
      "text/plain": [
       "<IPython.core.display.Markdown object>"
      ]
     },
     "metadata": {},
     "output_type": "display_data"
    }
   ],
   "source": [
    "from IPython.display import Markdown, display\n",
    "\n",
    "display(Markdown(answer))\n",
    "\n"
   ]
  },
  {
   "cell_type": "markdown",
   "metadata": {},
   "source": [
    "# Congratulations!\n",
    "\n",
    "That was a small, simple step in the direction of Agentic AI, with your new environment!\n",
    "\n",
    "Next time things get more interesting..."
   ]
  },
  {
   "cell_type": "markdown",
   "metadata": {},
   "source": []
  }
 ],
 "metadata": {
  "kernelspec": {
   "display_name": "agents (3.12.7)",
   "language": "python",
   "name": "python3"
  },
  "language_info": {
   "codemirror_mode": {
    "name": "ipython",
    "version": 3
   },
   "file_extension": ".py",
   "mimetype": "text/x-python",
   "name": "python",
   "nbconvert_exporter": "python",
   "pygments_lexer": "ipython3",
   "version": "3.12.7"
  }
 },
 "nbformat": 4,
 "nbformat_minor": 2
}
