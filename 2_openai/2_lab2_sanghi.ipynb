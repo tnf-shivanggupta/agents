{
 "cells": [
  {
   "cell_type": "code",
   "execution_count": 111,
   "metadata": {},
   "outputs": [],
   "source": [
    "# %pip install agents sendgrid python-dotenv\n",
    "\n",
    "from dotenv import load_dotenv\n",
    "from agents import Agent, Runner, trace, function_tool, OpenAIChatCompletionsModel\n",
    "import os\n",
    "from sendgrid.helpers.mail import Mail, Email, To, Content\n",
    "from openai import AsyncOpenAI\n",
    "\n"
   ]
  },
  {
   "cell_type": "code",
   "execution_count": 142,
   "metadata": {},
   "outputs": [],
   "source": [
    "load_dotenv(override=True)\n",
    "\n",
    "MODEL = 'llama-3.3-70b-versatile'\n",
    "GROQ_BASE_URL = \"https://api.groq.com/openai/v1\"\n",
    "groq_api_key = os.getenv(\"GROQ_API_KEY\")  # Add your Groq API key to your .env file\n",
    "\n",
    "# Point OpenAI client to Groq endpoint\n",
    "groq_client = AsyncOpenAI(\n",
    "    api_key=groq_api_key,\n",
    "    base_url=GROQ_BASE_URL\n",
    ")\n",
    "\n",
    "groq_model = OpenAIChatCompletionsModel(model=MODEL, openai_client=groq_client)\n",
    "\n",
    "\n",
    "def createAgent(name,instructions, tools = [], handoffs = [], handoff_description = \"If you are unable to help, handoff to another agent.\"):\n",
    "    agent = Agent(\n",
    "        name=name,\n",
    "        instructions=instructions,\n",
    "        tools=tools,\n",
    "        handoffs=handoffs,\n",
    "        handoff_description=handoff_description,\n",
    "        model=groq_model,\n",
    "    )\n",
    "    return agent"
   ]
  },
  {
   "cell_type": "markdown",
   "metadata": {},
   "source": [
    "## Step 1: Agent workflow"
   ]
  },
  {
   "cell_type": "code",
   "execution_count": 143,
   "metadata": {},
   "outputs": [],
   "source": [
    "mathTeacherInstructions = \"You are a maths teacher, \\\n",
    "You job is to help students with their maths homework. \\\n",
    "You are patient and explain concepts clearly. \\\n",
    "You provide step by step solutions to problems.\"\n",
    "\n",
    "translatorInstructions = \"You are a translator, \\\n",
    "Translate the given text to the specified language. \\\n",
    "You are fluent in multiple languages and understand cultural nuances.\"\n",
    "\n",
    "controllerInstructions = \"You are a controller agent, \\\n",
    "You decide which agent to call based on the user's request. \\\n",
    "You don't need to answer questions that doesn't fit into the other agents' expertise. \\\n",
    "You can call the maths agent for math related questions and the translator agent for translation tasks. \\\n",
    "You must call the appropriate agent to handle the user's request.\"\n"
   ]
  },
  {
   "cell_type": "code",
   "execution_count": 144,
   "metadata": {},
   "outputs": [],
   "source": [
    "maths_agent = createAgent(\"Professional Maths Teacher\",mathTeacherInstructions)\n",
    "translator_agent = createAgent(\"Translator\",translatorInstructions)"
   ]
  },
  {
   "cell_type": "code",
   "execution_count": 148,
   "metadata": {},
   "outputs": [],
   "source": [
    "maths_tools = maths_agent.as_tool(tool_name=\"Maths Tool\", tool_description=\"Helps with math problems and explanations.\")\n",
    "translator_tools = translator_agent.as_tool(tool_name=\"Translator Tool\", tool_description=\"Translates text to specified languages.\")"
   ]
  },
  {
   "cell_type": "code",
   "execution_count": 151,
   "metadata": {},
   "outputs": [],
   "source": [
    "controller_agent = createAgent(\"Controller Agent\", controllerInstructions, \n",
    "                                tools = [maths_tools, translator_tools],\n",
    "                                handoffs=[maths_agent, translator_agent])"
   ]
  },
  {
   "cell_type": "code",
   "execution_count": null,
   "metadata": {},
   "outputs": [
    {
     "name": "stdout",
     "output_type": "stream",
     "text": [
      "Professional Maths Teacher\n",
      "I hope this explanation helped you understand how to solve the equation 2x + 3 = 7. Let me know if you have any questions or need further clarification!\n",
      "Translator\n",
      "The translation of 'Hello, how are you?' to Hindi is:\n",
      "\n",
      "नमस्ते, आप कैसे हैं? (Namaste, aap kaise hain?)\n",
      "\n",
      "This is a formal way of greeting someone in Hindi. If you want to use a more informal tone, you can say:\n",
      "\n",
      "हाय, क्या हाल है? (hai, kya haal hai?) or अरे, कैसे हो? (are, kaise ho?)\n"
     ]
    }
   ],
   "source": [
    "result = await Runner.run(controller_agent, \"Can you help me solve 2x + 3 = 7\")\n",
    "print(result.last_agent.name)\n",
    "print(result.final_output)\n",
    "result = await Runner.run(controller_agent, \"i need a car, let's discuss\")\n",
    "print(result.last_agent.name)\n",
    "print(result.final_output)\n",
    "result = await Runner.run(controller_agent, \"Can you translate 'Hello, how are you?' to hindi?\")\n",
    "print(result.last_agent.name)\n",
    "print(result.final_output)"
   ]
  },
  {
   "cell_type": "code",
   "execution_count": null,
   "metadata": {},
   "outputs": [],
   "source": []
  }
 ],
 "metadata": {
  "kernelspec": {
   "display_name": "agents (3.12.7)",
   "language": "python",
   "name": "python3"
  },
  "language_info": {
   "codemirror_mode": {
    "name": "ipython",
    "version": 3
   },
   "file_extension": ".py",
   "mimetype": "text/x-python",
   "name": "python",
   "nbconvert_exporter": "python",
   "pygments_lexer": "ipython3",
   "version": "3.12.7"
  }
 },
 "nbformat": 4,
 "nbformat_minor": 2
}
